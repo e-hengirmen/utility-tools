{
  "nbformat": 4,
  "nbformat_minor": 0,
  "metadata": {
    "colab": {
      "name": "Colab_Hybrid MPI+OpenMP_ introduction.ipynb",
      "provenance": [],
      "collapsed_sections": [],
      "include_colab_link": true
    },
    "kernelspec": {
      "name": "python3",
      "display_name": "Python 3"
    }
  },
  "cells": [
    {
      "cell_type": "markdown",
      "metadata": {
        "id": "view-in-github",
        "colab_type": "text"
      },
      "source": [
        "<a href=\"https://colab.research.google.com/github/e-hengirmen/utility-tools/blob/master/Colab_Hybrid_MPI%2BOpenMP__introduction.ipynb\" target=\"_parent\"><img src=\"https://colab.research.google.com/assets/colab-badge.svg\" alt=\"Open In Colab\"/></a>"
      ]
    },
    {
      "cell_type": "markdown",
      "metadata": {
        "id": "mKpwWFCYGFAU"
      },
      "source": [
        "## Introduction to Hybrid MPI+OpenMP Parallel Programming \n",
        "Area of a circle equals to $\\pi/4$. Similarly, by integration we can determine \n",
        "$$\\pi = \\int_0^1 \\frac{4}{1+x^2} dx \\simeq \\frac{1}{N} \\sum_{i=0}^{N-1} \\frac{4}{1+x_i^2}$$"
      ]
    },
    {
      "cell_type": "markdown",
      "metadata": {
        "id": "TJh0jGe2Ncl6"
      },
      "source": [
        "## Compiling and running OpenMP"
      ]
    },
    {
      "cell_type": "code",
      "metadata": {
        "id": "jYN-HC8cYuKS",
        "colab": {
          "base_uri": "https://localhost:8080/"
        },
        "outputId": "d2f8f345-9caa-4dda-f075-181c7aa17d78"
      },
      "source": [
        "%%sh \n",
        "cat > pi-openmp.c << EOF\n",
        "#include <stdio.h>\n",
        "#include <math.h>\n",
        "#define N 9\n",
        "int main()\n",
        "{\n",
        "  double sum = 0.0;\n",
        "  #pragma omp parallel for reduction(+:sum)\n",
        "  for(int i = 0; i < N; i++)\n",
        "    {\n",
        "      double x = (i+0.5)/N;\n",
        "      sum += 4/(1 + x*x);\n",
        "    }\n",
        "  printf(\"pi = %.10lf error=%g\\n\", sum/N, sum/N-M_PI);\n",
        "}\n",
        "EOF\n",
        "gcc -fopenmp pi-openmp.c -lm && ./a.out"
      ],
      "execution_count": null,
      "outputs": [
        {
          "output_type": "stream",
          "name": "stdout",
          "text": [
            "pi = 3.1426214566 error=0.0010288\n"
          ]
        }
      ]
    },
    {
      "cell_type": "markdown",
      "metadata": {
        "id": "xBjyf1fEnTMH"
      },
      "source": [
        "## MPI"
      ]
    },
    {
      "cell_type": "code",
      "metadata": {
        "id": "VMaaSLsDZtQS",
        "colab": {
          "base_uri": "https://localhost:8080/"
        },
        "outputId": "f82830d5-f307-426e-f317-643a02d1c6b8"
      },
      "source": [
        "%%sh \n",
        "cat > pi-mpi.c << EOF\n",
        "#include <mpi.h>\n",
        "#include <stdio.h>\n",
        "#define N 1000000\n",
        "\n",
        "int main(int argc, char *argv[])\n",
        "{\n",
        "  int rank;\n",
        "  int size;\n",
        "  double subsum = 0.0;\n",
        "\n",
        "  MPI_Init(&argc, &argv);\n",
        "  MPI_Comm_rank(MPI_COMM_WORLD, &rank);\n",
        "  MPI_Comm_size(MPI_COMM_WORLD, &size);\n",
        "\n",
        "  for(int i = rank; i < N; i += size)\n",
        "    {\n",
        "      double x = (i+0.5)/N;\n",
        "      subsum += 4/(1 + x*x);\n",
        "    }\n",
        "  double sum;\n",
        "  MPI_Reduce(&subsum, &sum, 1, MPI_DOUBLE, MPI_SUM, 0, MPI_COMM_WORLD);\n",
        "  if (rank == 0)\n",
        "     printf(\"pi = %.10lf\\n\", sum/N);\n",
        "  MPI_Finalize();\n",
        "  return 0;\n",
        "}\n",
        "EOF\n",
        "mpicc pi-mpi.c && mpirun -n 2 --allow-run-as-root a.out"
      ],
      "execution_count": null,
      "outputs": [
        {
          "output_type": "stream",
          "name": "stdout",
          "text": [
            "pi = 3.1415926536\n"
          ]
        }
      ]
    },
    {
      "cell_type": "markdown",
      "metadata": {
        "id": "EcNsrsXN8Yno"
      },
      "source": [
        "## Hybrid MPI+OpenMP"
      ]
    },
    {
      "cell_type": "code",
      "metadata": {
        "id": "8lgnb5Qcy5ro",
        "colab": {
          "base_uri": "https://localhost:8080/"
        },
        "outputId": "b5401804-f8a3-4840-a3ee-89d204f6457e"
      },
      "source": [
        "%%sh \n",
        "cat > pi-hybrid.c << EOF\n",
        "#include <omp.h>\n",
        "#include <mpi.h>\n",
        "#include <stdio.h>\n",
        "#define N 1000000\n",
        "\n",
        "int main(int argc, char *argv[])\n",
        "{\n",
        "  int rank;\n",
        "  int size;\n",
        "  double subsum = 0.0;\n",
        "\n",
        "  MPI_Init(&argc, &argv);\n",
        "  MPI_Comm_rank(MPI_COMM_WORLD, &rank);\n",
        "  MPI_Comm_size(MPI_COMM_WORLD, &size);\n",
        "  omp_set_num_threads(2);\n",
        "  \n",
        "  int nthreads = omp_get_num_threads();\n",
        "  #pragma omp parallel\n",
        "  {  \n",
        "    int tid = omp_get_thread_num();\n",
        "    printf(\"Thread %d within rank %d started.\\n\", tid, rank);\n",
        "    #pragma omp for reduction(+:subsum)\n",
        "    for(int i = rank; i < N; i += size*nthreads)\n",
        "      {\n",
        "        double x = (i+0.5)/N;\n",
        "        subsum += 4/(1 + x*x);\n",
        "      }\n",
        "  }\n",
        "  double sum;\n",
        "  MPI_Reduce(&subsum, &sum, 1, MPI_DOUBLE, MPI_SUM, 0, MPI_COMM_WORLD);\n",
        "  if (rank == 0)\n",
        "     printf(\"pi = %.10lf\\n\", sum/N);\n",
        "  MPI_Finalize();\n",
        "  return 0;\n",
        "}\n",
        "EOF\n",
        "mpicc -fopenmp pi-hybrid.c && mpirun -n 3 --allow-run-as-root a.out"
      ],
      "execution_count": null,
      "outputs": [
        {
          "output_type": "stream",
          "name": "stdout",
          "text": [
            "Thread 1 within rank 1 started.\n",
            "Thread 0 within rank 1 started.\n",
            "Thread 1 within rank 2 started.\n",
            "Thread 0 within rank 2 started.\n",
            "Thread 1 within rank 0 started.\n",
            "Thread 0 within rank 0 started.\n",
            "pi = 3.1415926536\n"
          ]
        }
      ]
    },
    {
      "cell_type": "code",
      "metadata": {
        "id": "ki1AJk8D_O4j",
        "colab": {
          "base_uri": "https://localhost:8080/"
        },
        "outputId": "baecf2ab-3832-4da3-95b7-789a396065dd"
      },
      "source": [
        "%%sh\n",
        "apt-get install hwloc likwid > /dev/null\n",
        "hwloc-ls\n",
        "likwid-topology"
      ],
      "execution_count": null,
      "outputs": [
        {
          "output_type": "stream",
          "name": "stdout",
          "text": [
            "Machine (13GB)\n",
            "  Package L#0 + L3 L#0 (55MB) + L2 L#0 (256KB) + L1d L#0 (32KB) + L1i L#0 (32KB) + Core L#0\n",
            "    PU L#0 (P#0)\n",
            "    PU L#1 (P#1)\n",
            "  HostBridge L#0\n",
            "    PCI 1af4:1000\n",
            "--------------------------------------------------------------------------------\n",
            "CPU name:\tIntel(R) Xeon(R) CPU @ 2.20GHz\n",
            "CPU type:\tIntel Xeon Broadwell EN/EP/EX processor\n",
            "CPU stepping:\t0\n",
            "********************************************************************************\n",
            "Hardware Thread Topology\n",
            "********************************************************************************\n",
            "Sockets:\t\t1\n",
            "Cores per socket:\t1\n",
            "Threads per core:\t2\n",
            "--------------------------------------------------------------------------------\n",
            "HWThread\tThread\t\tCore\t\tSocket\t\tAvailable\n",
            "0\t\t0\t\t0\t\t0\t\t*\n",
            "1\t\t1\t\t0\t\t0\t\t*\n",
            "--------------------------------------------------------------------------------\n",
            "Socket 0:\t\t( 0 1 )\n",
            "--------------------------------------------------------------------------------\n",
            "********************************************************************************\n",
            "Cache Topology\n",
            "********************************************************************************\n",
            "Level:\t\t\t1\n",
            "Size:\t\t\t32 kB\n",
            "Cache groups:\t\t( 0 1 )\n",
            "--------------------------------------------------------------------------------\n",
            "Level:\t\t\t2\n",
            "Size:\t\t\t256 kB\n",
            "Cache groups:\t\t( 0 1 )\n",
            "--------------------------------------------------------------------------------\n",
            "Level:\t\t\t3\n",
            "Size:\t\t\t55 MB\n",
            "Cache groups:\t\t( 0 1 )\n",
            "--------------------------------------------------------------------------------\n",
            "********************************************************************************\n",
            "NUMA Topology\n",
            "********************************************************************************\n",
            "NUMA domains:\t\t1\n",
            "--------------------------------------------------------------------------------\n",
            "Domain:\t\t\t0\n",
            "Processors:\t\t( 0 1 )\n",
            "Distances:\t\t10\n",
            "Free memory:\t\t9556.59 MB\n",
            "Total memory:\t\t12986.9 MB\n",
            "--------------------------------------------------------------------------------\n"
          ]
        },
        {
          "output_type": "stream",
          "name": "stderr",
          "text": [
            "Unexpected end of /proc/mounts line `overlay / overlay rw,relatime,lowerdir=/var/lib/docker/overlay2/l/TLOTFFIBRD4MKDSR4QNEZUW2WQ:/var/lib/docker/overlay2/l/WEMSV5FPOLLNMUACJVLQOSCNZX:/var/lib/docker/overlay2/l/47OAR4QO24W4L3JNMJLB43OGYH:/var/lib/docker/overlay2/l/QP5FODE5DSMJNWQTXAKE5EWENJ:/var/lib/docker/overlay2/l/RTZBWTIRLPOW5TOSCSJNHYCNBT:/var/lib/docker/overlay2/l/H3S5LZMN3IHV2CPUELDJCL4LLM:/var/lib/docker/overlay2/l/YLHBX2IH37UVBKVQKPYKWWVVK5:/var/lib/docker/overlay2/l/FWBFE3GSFMVTI6DKCZQHIKUMO3:/var/lib/docker/overlay2/l/VC4QTWHCDWSNW'\n",
            "Unexpected end of /proc/mounts line `IQWSGSCYKPI6C:/var/lib/docker/overlay2/l/J35WRPZJLNPJAYWERDRH4B6UKE:/var/lib/docker/overlay2/l/MWT6BXWSXUMECURW75IZM4FL5V:/var/lib/docker/overlay2/l/T7EQZ7VFMTKD2HRFBBCPUILB56:/var/lib/docker/overlay2/l/CC7K6HEG5DVX2BMTYL7DJUAWVH:/var/lib/docker/overlay2/l/3FIKXMRMUYP4WUNOK5QFPZKI77:/var/lib/docker/overlay2/l/FIDPK4DGBBKCUFNUAHEQHVACT5:/var/lib/docker/overlay2/l/LM7ZPSVLQNNXXQZ6T7JUWPUQPG:/var/lib/docker/overlay2/l/I4HILEBJRTE54RVCM3CZOTIXKH:/var/lib/docker/overlay2/l/4HT77OBFN5MQV4NVHEHBO266UA:/var/lib/do'\n",
            "Unexpected end of /proc/mounts line `cker/overlay2/l/FQECPG5V4TBHPYQOXZBTIF36JH:/var/lib/docker/overlay2/l/XQM7OBX7XIL52QNA7GLMVPDJIR:/var/lib/docker/overlay2/l/ZMTFDH4Z2NJD54JTDIH3ZGS5FM:/var/lib/docker/overlay2/l/SNRFDQCTTVDMZDS5PD6SBKF34I:/var/lib/docker/overlay2/l/O242VS6NHBWOXPHM767FZJ5ULX:/var/lib/docker/overlay2/l/6CLKHSBLGDTR4ONH376OLZ2MKX:/var/lib/docker/overlay2/l/4EUBZB5KLWQ67UNR5NCPEJLWEC:/var/lib/docker/overlay2/l/SR4EJ75QF2Z7VDLMHG5VLYRX4W:/var/lib/docker/overlay2/l/EHE4W6IDIPIIRKXVQD2QUQG7NW:/var/lib/docker/overlay2/l/7JKFR4PQ7'\n",
            "Unexpected end of /proc/mounts line `FGR3KUR62JMN6VD3O:/var/lib/docker/overlay2/l/NHC6J44GFCYQ65PI554DJCGP65:/var/lib/docker/overlay2/l/UQTAQ5AU3YQGSYWJAWKIHTCKN3:/var/lib/docker/overlay2/l/PLAVHSJNEPYURBJAJDH7C5ONQ6:/var/lib/docker/overlay2/l/OUXIDIEXQFXBFTSAO7ABSINWWV:/var/lib/docker/overlay2/l/UNWICVC45Q522ODOBKQL52VW6W:/var/lib/docker/overlay2/l/J7QDSU6JF5RIAN4OQUVJVOXIVU:/var/lib/docker/overlay2/l/GKU7ZTS4XXH2UK4V5RAIQWYUDJ:/var/lib/docker/overlay2/l/PONUNJ223PHJTYQBHVC35VGNAY:/var/lib/docker/overlay2/l/KTNTMMGG4TRQ7ADHGZC7FCHU4S:/var/li'\n",
            "Unexpected end of /proc/mounts line `b/docker/overlay2/l/4XGPIFL5TBNAY5K3QRVC4SNBC7:/var/lib/docker/overlay2/l/5633SNKBA7BXZXAHAX4EPEQHVM:/var/lib/docker/overlay2/l/IO7KYOFW4K2L3PY3FK5OCMD4UN:/var/lib/docker/overlay2/l/7N67PGKMEM6BL3MMP4T4QFHBC2:/var/lib/docker/overlay2/l/46JPS3VZZIGS36XVWX33FAFYMG:/var/lib/docker/overlay2/l/CMBRNVWLKHA7QBNBKETY64JSD4:/var/lib/docker/overlay2/l/KAQAVTADQFWUGJJUU3JWNBCDX2:/var/lib/docker/overlay2/l/HP47QJBCIJZ6YR7XHIC3B3G742,upperdir=/var/lib/docker/overlay2/1d5f04b24bbbb49e7aa028eeaa6dd08e56bf867c794f1d94205e'\n"
          ]
        }
      ]
    },
    {
      "cell_type": "code",
      "metadata": {
        "id": "yyt0wsFQ_c5h"
      },
      "source": [
        ""
      ],
      "execution_count": null,
      "outputs": []
    }
  ]
}